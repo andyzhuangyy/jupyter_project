{
 "cells": [
  {
   "cell_type": "code",
   "execution_count": 10,
   "metadata": {},
   "outputs": [
    {
     "name": "stdout",
     "output_type": "stream",
     "text": [
      "3909\n",
      "3971\n",
      "3563\n",
      "3620\n",
      "497\n"
     ]
    }
   ],
   "source": [
    "base_path=\"/Users/andyzhuang/Documents/0-业务/11-评测/02-POI评测/01-抽样/202004_全国/预抽样2/newtest/city_20200421_samp2/sp2/\"\n",
    "path_a = base_path +\"POI引导点-百度-整体.csv\"\n",
    "\n",
    "path_b = base_path + \"POI引导点-百度-头部.csv\"\n",
    "\n",
    "import pandas as pd\n",
    "\n",
    "\n",
    "column_b=['rawid', ' index_address', ' index_phone', ' index_area_code', \n",
    "          ' index_name', ' index_category', ' index_category_code', ' index_longitude', \n",
    "          ' index_latitude', ' index_status', '  index_source', ' index_grid_id', ' index_city_level', \n",
    "          ' index_city_name', ' index_nav_num', '  gaode_pp_gaode_id', ' gaode_rawurl', ' gaode_name', \n",
    "          ' gaode_longitude', ' gaode_latitude', '  gaode_update_time', ' gaode_raw_adcode', \n",
    "          ' gaode_raw_typecode', ' baidu_pp_baidu_id', ' baidu_rawurl', '  baidu_name', ' baidu_longitude', \n",
    "          ' baidu_latitude', ' baidu_update_time', ' baidu_cityid', '  is_top', ' g_dis', ' b_dis']\n",
    "\n",
    "column_a=['rawid', 'name', 'address', 'phone', 'longitude','latitude', 'status', 'source', 'area_code', 'category',\n",
    "          'category_code', 'click_num', 'nav_num', 'grid_id_z15', 'grid_id',\n",
    "          'location_num', 'city_level', 'city_name', 'is_top', 'task_tag']\n",
    "\n",
    "column_baidu_nav = ['index_rawid', 'index_address', 'index_phone', 'index_area_code', 'index_name', 'index_category',\n",
    "          'index_category_code', 'index_longitude', 'index_latitude', 'index_status', 'index_source', 'index_grid_id',\n",
    "          'index_city_level', 'index_city_name', 'index_nav_num', 'baidu_poiid', 'baidu_pp_baidu_id', 'baidu_rawurl',\n",
    "          'baidu_name', 'baidu_longitude', 'baidu_latitude', 'baidu_cityid', 'navi_longitude', 'navi_latitude']\n",
    "df_a = pd.read_csv(path_a, delimiter=\"\\t\", header=None, names=column_baidu_nav)\n",
    "df_b = pd.read_csv(path_b, delimiter=\"\\t\", header=None, names=column_baidu_nav)\n",
    "\n",
    "print(len(df_a))\n",
    "print(len(df_b))\n",
    "\n",
    "df_a = df_a.drop_duplicates(subset=['index_rawid'])\n",
    "df_b = df_b.drop_duplicates(subset=['index_rawid'])\n",
    "\n",
    "print(len(df_a))\n",
    "print(len(df_b))\n",
    "\n",
    "\n",
    "result = pd.merge(df_a, df_b, how='inner', on=['baidu_poiid'])\n",
    "\n",
    "print(len(result))\n",
    "\n",
    "result.to_csv(base_path+'百度引导点交集.csv', index=False, sep='\\t')\n",
    "\n",
    "\n"
   ]
  },
  {
   "cell_type": "code",
   "execution_count": null,
   "metadata": {},
   "outputs": [],
   "source": [
    "df_b"
   ]
  },
  {
   "cell_type": "code",
   "execution_count": null,
   "metadata": {},
   "outputs": [],
   "source": []
  }
 ],
 "metadata": {
  "kernelspec": {
   "display_name": "Python 3",
   "language": "python",
   "name": "python3"
  },
  "language_info": {
   "codemirror_mode": {
    "name": "ipython",
    "version": 3
   },
   "file_extension": ".py",
   "mimetype": "text/x-python",
   "name": "python",
   "nbconvert_exporter": "python",
   "pygments_lexer": "ipython3",
   "version": "3.7.5"
  }
 },
 "nbformat": 4,
 "nbformat_minor": 2
}
