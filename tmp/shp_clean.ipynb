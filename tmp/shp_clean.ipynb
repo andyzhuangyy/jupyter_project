{
 "cells": [
  {
   "cell_type": "code",
   "execution_count": 52,
   "metadata": {},
   "outputs": [],
   "source": [
    "import shapefile\n",
    "import sys\n",
    "from json import dumps\n",
    "from eviltransform import wgs2gcj\n",
    "\n",
    "def clean_encoding(obj):\n",
    "    if type(obj) is bytes:\n",
    "        #return obj.decode(encoding='gb2312')\n",
    "        return obj.decode(encoding='gb18030')\n",
    "    return obj\n",
    "def encoding(obj):\n",
    "    if type(obj) is unicode:\n",
    "        return obj.encode(encoding='utf8')\n",
    "    return obj\n",
    "\n",
    "def wgs2gcj_ext(geometry_point):\n",
    "    '''\n",
    "    geometry_point: lon, lat\n",
    "    return geometry point: lon, lat\n",
    "    '''\n",
    "    precision = 1000000\n",
    "    gcj_point = wgs2gcj(geometry_point[1], geometry_point[0])\n",
    "    lon = int(gcj_point[1] * precision) * 1.0 / precision\n",
    "    lat = int(gcj_point[0] * precision) * 1.0 / precision\n",
    "    return [lon, lat]\n",
    "\n",
    "def trans_coordinate(geometry):\n",
    "    '''\n",
    "    转坐标系\n",
    "    '''\n",
    "    coordinates = []\n",
    "    geo_type = geometry['type']\n",
    "    if geo_type == 'Point':\n",
    "        point = geometry['coordinates']\n",
    "        coordinates = wgs2gcj_ext(point)\n",
    "    elif geo_type == 'LineString':\n",
    "        for point in geometry['coordinates']:\n",
    "            coordinates.append(wgs2gcj_ext(point))\n",
    "    elif geo_type == 'Polygon':\n",
    "        for points in geometry['coordinates']:\n",
    "            new_points = []\n",
    "            for point in points:\n",
    "                new_points.append(wgs2gcj_ext(point))\n",
    "            coordinates.append(new_points)\n",
    "    elif geo_type == 'MultiPolygon':\n",
    "        for polygons in geometry['coordinates']:\n",
    "            new_polygons = []\n",
    "            for points in polygons:\n",
    "                new_points = []\n",
    "                for point in points:\n",
    "                    new_points.append(wgs2gcj_ext(point))\n",
    "                new_polygons.append(new_points)\n",
    "            coordinates.append(new_polygons)\n",
    "    else:\n",
    "        raise Exception(\"not supported shapeType: \" + geo_type)\n",
    "    geometry['coordinates'] = coordinates\n",
    "    return geometry\n",
    "\n"
   ]
  },
  {
   "cell_type": "code",
   "execution_count": 76,
   "metadata": {},
   "outputs": [
    {
     "name": "stdout",
     "output_type": "stream",
     "text": [
      "done\n"
     ]
    }
   ],
   "source": [
    "reader = shapefile.Reader('/Users/yongyao.zhuang/Downloads/2018/link.beijing.2018/beijing_polygon.shp')\n",
    "fields = reader.fields[:]\n",
    "\n",
    "# write shapefile\n",
    "w = shapefile.Writer()\n",
    "\n",
    "# write fields\n",
    "for field in fields:\n",
    "    w.field(field[0], field[1], field[2], field[3])\n",
    "\n",
    "# write shape\n",
    "for sr in reader.shapeRecords():\n",
    "    # clean encoding\n",
    "    record = map(encoding, map(clean_encoding, sr.record))\n",
    "    \n",
    "    # mk shape\n",
    "    shape = shapefile._Shape(sr.shape.shapeType)\n",
    "    shape.parts = sr.shape.parts\n",
    "    shape.points = map(wgs2gcj_ext, sr.shape.points)\n",
    "    \n",
    "    w.shapes().append(shape)\n",
    "    w.record(*record)\n",
    "    \n",
    "w.save('/Users/yongyao.zhuang/tmp/1/1')\n",
    "print 'done'"
   ]
  },
  {
   "cell_type": "code",
   "execution_count": null,
   "metadata": {},
   "outputs": [],
   "source": []
  },
  {
   "cell_type": "code",
   "execution_count": null,
   "metadata": {},
   "outputs": [],
   "source": []
  },
  {
   "cell_type": "code",
   "execution_count": null,
   "metadata": {},
   "outputs": [],
   "source": []
  }
 ],
 "metadata": {
  "kernelspec": {
   "display_name": "Python 3",
   "language": "python",
   "name": "python3"
  },
  "language_info": {
   "codemirror_mode": {
    "name": "ipython",
    "version": 3
   },
   "file_extension": ".py",
   "mimetype": "text/x-python",
   "name": "python",
   "nbconvert_exporter": "python",
   "pygments_lexer": "ipython3",
   "version": "3.7.4"
  }
 },
 "nbformat": 4,
 "nbformat_minor": 2
}
