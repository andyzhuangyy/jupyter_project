{
 "cells": [
  {
   "cell_type": "markdown",
   "metadata": {},
   "source": [
    "## 1. join 道路link基本数据和要素数据"
   ]
  },
  {
   "cell_type": "code",
   "execution_count": 1,
   "metadata": {},
   "outputs": [
    {
     "name": "stdout",
     "output_type": "stream",
     "text": [
      "+-------------+------+------+---------------+------+\n",
      "|      link_id|adcode|region|        grid_id|length|\n",
      "+-------------+------+------+---------------+------+\n",
      "|     13194124|610429|  西北|310231212030203|   364|\n",
      "|9100051363998|610528|  西北|310231211231222|    15|\n",
      "|9100042483150|610827|  西北|310233120101302|    11|\n",
      "|9100055577627|610524|  西北|310231302301223|    47|\n",
      "|9100042071344|610326|  西北|310231023233022|   224|\n",
      "+-------------+------+------+---------------+------+\n",
      "only showing top 5 rows\n",
      "\n",
      "+-------------+----+----+-----+---+---+---+\n",
      "|      link_id|lane|cond|light|eye|rev|adj|\n",
      "+-------------+----+----+-----+---+---+---+\n",
      "|9100023785557|   0|   0|    0|  0|  0|  0|\n",
      "|       378465|   0|   0|    0|  0|  0|  0|\n",
      "|     52313639|   0|   0|    0|  0|  0|  0|\n",
      "|    102920609|   0|   0|    0|  3|  0|  0|\n",
      "|     34883016|   0|   0|    0|  0|  0|  0|\n",
      "+-------------+----+----+-----+---+---+---+\n",
      "only showing top 5 rows\n",
      "\n",
      "+-------------+----+-------------+------+-------+\n",
      "|      link_id|kind|       length|adcode|unknown|\n",
      "+-------------+----+-------------+------+-------+\n",
      "|     41830816|  08|23.1387115975|140402|    709|\n",
      "|9100016058937|  08|21.3531236333|130223|    709|\n",
      "|9100014912913|  08|159.461705402|511521|    709|\n",
      "|9100047594880|  08|12.2876023038|130223|    709|\n",
      "|9100050488786|  08|134.044038841|371202|    709|\n",
      "+-------------+----+-------------+------+-------+\n",
      "only showing top 5 rows\n",
      "\n"
     ]
    }
   ],
   "source": [
    "from pyspark.sql import SparkSession\n",
    "spark = SparkSession \\\n",
    "    .builder \\\n",
    "    .appName(\"Test\") \\\n",
    "    .config('spark.default.parallelism','2') \\\n",
    "    .config('spark.executor.cores','2') \\\n",
    "    .getOrCreate()\n",
    "\n",
    "df_link = spark.read.format(\"com.databricks.spark.csv\") \\\n",
    ".option(\"delimiter\", \"\\t\") \\\n",
    ".load(\"/Users/andyzhuang/git/maps_arch/road_sampling/data/link_grid_lenth_zoom15_version2.csv\") \\\n",
    ".toDF(\"link_id\", \"adcode\", \"region\", \"grid_id\", \"length\")\n",
    "\n",
    "df_link.show(5)\n",
    "df_link.createTempView(\"temp_link\") \n",
    "\n",
    "df_elem = spark.read.format(\"com.databricks.spark.csv\") \\\n",
    ".option(\"delimiter\", \" \") \\\n",
    ".load(\"/Users/andyzhuang/git/maps_arch/road_sampling/data/road_elem.csv\") \\\n",
    ".toDF(\"link_id\", 'lane','cond','light','eye','rev','adj')\n",
    "# lane', 车信\n",
    "# 'cond',交限\n",
    "# 'light',信号灯\n",
    "# 'eye',电子眼\n",
    "# 'rev',掉头口\n",
    "# 'adj',路口挂接\n",
    "\n",
    "df_elem.show(5)\n",
    "df_elem.createTempView(\"temp_elem\") \n",
    "\n",
    "\n",
    "df_link_mid = spark.read.format(\"com.databricks.spark.csv\") \\\n",
    ".option(\"delimiter\", \",\") \\\n",
    ".load(\"/Users/andyzhuang/Documents/0-业务/地图数据说明/yuangang/all_214wan.mid\") \\\n",
    ".toDF(\"link_id\", \"kind\", \"length\", \"adcode\", \"unknown\")\n",
    "\n",
    "df_link_mid.show(5)\n",
    "df_link_mid.createTempView(\"temp_link_mid\") \n",
    "\n",
    "\n"
   ]
  },
  {
   "cell_type": "code",
   "execution_count": 9,
   "metadata": {},
   "outputs": [],
   "source": [
    "df_link_elem = spark.sql(\"select a.link_id, a.adcode, a.region, a.grid_id, kind, a.length, nvl(lane,0) lane, nvl(cond,0) cond, nvl(light,0) light, nvl(eye,0) eye, nvl(rev,0) rev, \\\n",
    "           nvl(adj,0) adj \\\n",
    "          from temp_link a \\\n",
    "          left join temp_elem b on a.link_id=b.link_id \\\n",
    "          left join temp_link_mid c on a.link_id=c.link_id\")\n",
    "\n",
    "output_path = \"/Users/andyzhuang/git/maps_arch/road_sampling/data/link_all_elem_kind.csv\"\n",
    "df_link_elem.repartition(1).write.mode('overwrite').csv(output_path, sep='\\t', quote='\\u0000')"
   ]
  },
  {
   "cell_type": "code",
   "execution_count": 10,
   "metadata": {},
   "outputs": [
    {
     "name": "stdout",
     "output_type": "stream",
     "text": [
      "+--------+------+------+---------------+----+------+----+----+-----+---+---+---+\n",
      "| link_id|adcode|region|        grid_id|kind|length|lane|cond|light|eye|rev|adj|\n",
      "+--------+------+------+---------------+----+------+----+----+-----+---+---+---+\n",
      "|10000723|530112|  西南|310210210202233|  06|    19|   0|   0|    0|  0|  0|  0|\n",
      "| 1000665|620725|  西北|310223133332301|  00|    90|   0|   0|    0|  0|  0|  0|\n",
      "| 1000795|441900|  华南|310300012032113|  04|    20|   0|   0|    0|  0|  0|  2|\n",
      "| 1000839|441900|  华南|310300012032112|  04|   209|   0|   0|    0|  0|  0|  1|\n",
      "|10009009|440114|  华南|310300020113213|  03|    24|   0|   0|    0|  0|  0|  0|\n",
      "+--------+------+------+---------------+----+------+----+----+-----+---+---+---+\n",
      "only showing top 5 rows\n",
      "\n"
     ]
    }
   ],
   "source": [
    "df_link_elem.show(5)"
   ]
  },
  {
   "cell_type": "code",
   "execution_count": null,
   "metadata": {},
   "outputs": [],
   "source": []
  }
 ],
 "metadata": {
  "kernelspec": {
   "display_name": "Python 3",
   "language": "python",
   "name": "python3"
  },
  "language_info": {
   "codemirror_mode": {
    "name": "ipython",
    "version": 3
   },
   "file_extension": ".py",
   "mimetype": "text/x-python",
   "name": "python",
   "nbconvert_exporter": "python",
   "pygments_lexer": "ipython3",
   "version": "3.7.5"
  }
 },
 "nbformat": 4,
 "nbformat_minor": 2
}
